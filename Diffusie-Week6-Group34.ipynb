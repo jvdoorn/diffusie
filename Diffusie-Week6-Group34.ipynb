{
 "cells": [
  {
   "cell_type": "markdown",
   "source": [
    "# 2020 Diffusie werkcollege opdracht\n",
    "***\n",
    "\n",
    "## Datum: 12 maart 2020\n",
    "## Hoofdstuk: 6\n",
    "## Groep nummer: 34\n",
    "***\n",
    "## Student 1\n",
    "    naam: Julian van Doorn\n",
    "    Studentnr: s2518074\n",
    "\n",
    "## Student 2\n",
    "    naam: Tiago Scholten\n",
    "    Studentnr: s2430479\n"
   ],
   "metadata": {
    "collapsed": false
   }
  },
  {
   "cell_type": "code",
   "execution_count": null,
   "outputs": [],
   "source": [
    "from __future__ import division\n",
    "\n",
    "import numpy as np\n",
    "\n",
    "import matplotlib.pyplot as plt\n",
    "%matplotlib inline"
   ],
   "metadata": {
    "collapsed": false,
    "pycharm": {
     "name": "#%%\n"
    }
   }
  },
  {
   "cell_type": "markdown",
   "source": [
    "# Opgave 6.3a"
   ],
   "metadata": {
    "collapsed": false
   }
  },
  {
   "cell_type": "code",
   "execution_count": null,
   "outputs": [],
   "source": [
    "dx = 0.1\n",
    "x = np.arange(0, 10, dx)\n",
    "\n",
    "C10 = (1 + np.sin(2 * np.pi * x / 10))"
   ],
   "metadata": {
    "collapsed": false,
    "pycharm": {
     "name": "#%%\n"
    }
   }
  },
  {
   "cell_type": "markdown",
   "source": [
    "# Opgave 6.3b"
   ],
   "metadata": {
    "collapsed": false
   }
  },
  {
   "cell_type": "code",
   "execution_count": null,
   "outputs": [],
   "source": [
    "x = np.arange(0, 30, dx)\n",
    "C30 = np.concatenate((C10, C10, C10))\n",
    "\n",
    "plt.plot(x, C30)\n",
    "plt.title(r'$C(x) = 1 + sin\\left(\\frac{2\\pi x}{10}\\right)$')\n",
    "plt.xlabel('x')\n",
    "plt.ylabel('C(x)')\n",
    "plt.show()"
   ],
   "metadata": {
    "collapsed": false,
    "pycharm": {
     "name": "#%%\n"
    }
   }
  },
  {
   "cell_type": "markdown",
   "source": [
    "# Opgave 6.3c"
   ],
   "metadata": {
    "collapsed": false
   }
  },
  {
   "cell_type": "code",
   "execution_count": null,
   "outputs": [],
   "source": [
    "D = 0.2\n",
    "\n",
    "CDF = -D * (np.roll(C30, -1, axis=0) - np.roll(C30, 1, axis=0)) / (2 * dx)"
   ],
   "metadata": {
    "collapsed": false,
    "pycharm": {
     "name": "#%%\n"
    }
   }
  },
  {
   "cell_type": "markdown",
   "source": [
    "# Opgave 6.3d"
   ],
   "metadata": {
    "collapsed": false
   }
  },
  {
   "cell_type": "code",
   "execution_count": null,
   "outputs": [],
   "source": [
    "F30 = -D * np.cos(2 * np.pi * x / 10) * 2 * np.pi / 10"
   ],
   "metadata": {
    "collapsed": false,
    "pycharm": {
     "name": "#%%\n"
    }
   }
  },
  {
   "cell_type": "markdown",
   "source": [
    "# Opgave 6.3e"
   ],
   "metadata": {
    "collapsed": false
   }
  },
  {
   "cell_type": "code",
   "execution_count": null,
   "outputs": [],
   "source": [
    "plt.scatter(x, CDF, label='CDF', color='orange')\n",
    "plt.plot(x, F30, label=r'F(x)')\n",
    "plt.title('CDF compared to F(x)')\n",
    "plt.xlabel('x')\n",
    "plt.ylabel('Flux')\n",
    "plt.legend()\n",
    "plt.show()"
   ],
   "metadata": {
    "collapsed": false,
    "pycharm": {
     "name": "#%%\n"
    }
   }
  },
  {
   "cell_type": "markdown",
   "source": [
    "We zien dat ze exact overlappen."
   ],
   "metadata": {
    "collapsed": false
   }
  },
  {
   "cell_type": "markdown",
   "source": [
    "# Opgave 6.4a"
   ],
   "metadata": {
    "collapsed": false
   }
  },
  {
   "cell_type": "code",
   "execution_count": null,
   "outputs": [],
   "source": [
    "dx = 0.1\n",
    "x = np.arange(0, 10, dx)\n",
    "dt = 0.1\n",
    "t = np.arange(0, 1, dt)\n",
    "\n",
    "F = 1 - np.cos(2 * np.pi * x / 10)\n",
    "dFdx = (np.roll(F, -1, axis=0) - np.roll(F, 1, axis=0)) / (2 * dx)"
   ],
   "metadata": {
    "collapsed": false,
    "pycharm": {
     "name": "#%%\n"
    }
   }
  },
  {
   "cell_type": "markdown",
   "source": [
    "# Opgave 6.4b"
   ],
   "metadata": {
    "collapsed": false
   }
  },
  {
   "cell_type": "code",
   "execution_count": null,
   "outputs": [],
   "source": [
    "C = np.tile(np.nan, (len(x), len(t)))\n",
    "C[:, 0] = 1"
   ],
   "metadata": {
    "collapsed": false,
    "pycharm": {
     "name": "#%%\n"
    }
   }
  },
  {
   "cell_type": "markdown",
   "source": [
    "# Opgave 6.4c"
   ],
   "metadata": {
    "collapsed": false
   }
  },
  {
   "cell_type": "code",
   "execution_count": null,
   "outputs": [],
   "source": [
    "for i in range(len(t) - 1):\n",
    "    C[:, i + 1] = C[:, i] - dt * dFdx[:]\n",
    "    \n",
    "    plt.plot(x, C[:, i + 1], label=f't={(i + 1) * dt:.1f}')\n",
    "\n",
    "plt.title('C(t, x)')\n",
    "plt.xlabel('x')\n",
    "plt.ylabel('C(t, x)')\n",
    "plt.legend()\n",
    "plt.show()"
   ],
   "metadata": {
    "collapsed": false,
    "pycharm": {
     "name": "#%%\n"
    }
   }
  },
  {
   "cell_type": "markdown",
   "source": [
    "# Opgave 6.5a"
   ],
   "metadata": {
    "collapsed": false
   }
  },
  {
   "cell_type": "code",
   "execution_count": null,
   "outputs": [],
   "source": [
    "dx = 0.1\n",
    "x = np.arange(0, 10, dx)\n",
    "dt = 0.1\n",
    "t = np.arange(0, 50, dt)\n",
    "\n",
    "D = 0.2\n",
    "\n",
    "C0 = np.zeros((len(x)))\n",
    "C0[round(5 / dx): round(7 / dx)] = 1 - np.cos(2 * np.pi * (np.arange(5, 7, dx) - 5) / 2)\n",
    "\n",
    "plt.plot(x, C0)\n",
    "plt.xlabel('x')\n",
    "plt.ylabel('C(0, x)')\n",
    "plt.title('Beginconcentratie')\n",
    "plt.show()"
   ],
   "metadata": {
    "collapsed": false,
    "pycharm": {
     "name": "#%%\n"
    }
   }
  },
  {
   "cell_type": "markdown",
   "source": [
    "# Opgave 6.5b"
   ],
   "metadata": {
    "collapsed": false
   }
  },
  {
   "cell_type": "code",
   "execution_count": null,
   "outputs": [],
   "source": [
    "def diffusie(t, x, D, C0):\n",
    "    C = np.tile(np.nan, (len(x), len(t)))\n",
    "    C[:,0] = C0\n",
    "    \n",
    "    for i in range(len(t) - 1):\n",
    "        dCdx = (np.roll(C[:, i], -1, axis=0) - np.roll(C[:, i], 1, axis=0)) / (2 * dx)\n",
    "        dFdx = (np.roll(dCdx, -1, axis=0) - np.roll(dCdx, 1, axis=0)) / (2 * dx)\n",
    "        C[:, i + 1] = C[:, i] + dt * D * dFdx\n",
    "\n",
    "    return C"
   ],
   "metadata": {
    "collapsed": false,
    "pycharm": {
     "name": "#%%\n"
    }
   }
  },
  {
   "cell_type": "markdown",
   "source": [
    "# Opgave 6.5c"
   ],
   "metadata": {
    "collapsed": false
   }
  },
  {
   "cell_type": "code",
   "execution_count": null,
   "outputs": [],
   "source": [
    "C = diffusie(t, x, D, C0)\n",
    "\n",
    "for i in range(0, len(t), round(5 / dt)):\n",
    "    plt.plot(x, C[:, i], label=f't={i * dt:.0f}')\n",
    "\n",
    "plt.xlabel('x')\n",
    "plt.ylabel('C')\n",
    "plt.title('Concentration over positie')\n",
    "plt.ylim(0, 2)\n",
    "plt.legend()\n",
    "plt.show()"
   ],
   "metadata": {
    "collapsed": false,
    "pycharm": {
     "name": "#%%\n"
    }
   }
  },
  {
   "cell_type": "markdown",
   "source": [
    "# Opgave 6.5d"
   ],
   "metadata": {
    "collapsed": false
   }
  },
  {
   "cell_type": "code",
   "execution_count": null,
   "outputs": [],
   "source": [
    "for i in range(0, 100, 10):\n",
    "    plt.plot(t, C[i, :], label=f'x = {i * dx:.0f}')\n",
    "    \n",
    "plt.legend()\n",
    "plt.xlabel('t')\n",
    "plt.ylabel('C')\n",
    "plt.title('Concentratie over tijd')\n",
    "plt.show()"
   ],
   "metadata": {
    "collapsed": false,
    "pycharm": {
     "name": "#%%\n"
    }
   }
  },
  {
   "cell_type": "markdown",
   "source": [
    "Nee, de conentratie kan zich niet ineens een hele grote afstand verplaatsen. Het effent zich langzaam uit."
   ],
   "metadata": {
    "collapsed": false
   }
  },
  {
   "cell_type": "markdown",
   "source": [
    "# Opgave 6.5e"
   ],
   "metadata": {
    "collapsed": false
   }
  },
  {
   "cell_type": "code",
   "execution_count": null,
   "outputs": [],
   "source": [
    "dt = 0.2\n",
    "t = np.arange(0, 50, dt)\n",
    "\n",
    "C = diffusie(t, x, D, C0)\n",
    "\n",
    "for i in range(0, len(t), round(5 / dt)):\n",
    "    plt.plot(x, C[:, i], label=f't={i * dt:.0f}')\n",
    "\n",
    "plt.xlabel('x')\n",
    "plt.ylabel('C')\n",
    "plt.title('Concentration over positie')\n",
    "plt.ylim(0, 2)\n",
    "plt.legend()\n",
    "plt.show()"
   ],
   "metadata": {
    "collapsed": false,
    "pycharm": {
     "name": "#%%\n"
    }
   }
  },
  {
   "cell_type": "markdown",
   "source": [
    "We krijgen complete chaos."
   ],
   "metadata": {
    "collapsed": false
   }
  },
  {
   "cell_type": "markdown",
   "source": [
    "# Opgave 6.5f"
   ],
   "metadata": {
    "collapsed": false
   }
  },
  {
   "cell_type": "code",
   "execution_count": null,
   "outputs": [],
   "source": [
    "dx = 0.15\n",
    "x = np.arange(0, 10, dx)\n",
    "dt = 0.2\n",
    "t = np.arange(0, 50, dt)\n",
    "\n",
    "C0 = np.zeros((len(x)))\n",
    "C0[round(5 / dx): round(7 / dx)] = 1 - np.cos(2 * np.pi * (np.arange(5, 7, dx) - 5) / 2)\n",
    "\n",
    "C = diffusie(t, x, D, C0)\n",
    "\n",
    "for i in range(0, len(t), round(5 / dt)):\n",
    "    plt.plot(x, C[:, i], label=f't={i * dt:.0f}')\n",
    "\n",
    "plt.xlabel('x')\n",
    "plt.ylabel('C')\n",
    "plt.title('Concentration over positie')\n",
    "plt.ylim(0, 2)\n",
    "plt.legend()\n",
    "plt.show()"
   ],
   "metadata": {
    "collapsed": false,
    "pycharm": {
     "name": "#%%\n"
    }
   }
  },
  {
   "cell_type": "markdown",
   "source": [
    "Deze hoef je niet even groot te maken, bij een verdubbeling van dt is een 50% toename van dx voldoende."
   ],
   "metadata": {
    "collapsed": false
   }
  },
  {
   "cell_type": "markdown",
   "source": [
    "# Opgave 6.5g"
   ],
   "metadata": {
    "collapsed": false
   }
  },
  {
   "cell_type": "code",
   "execution_count": null,
   "outputs": [],
   "source": [
    "dx = 0.1\n",
    "x = np.arange(0, 10, dx)\n",
    "dt = 0.1\n",
    "t = np.arange(0, 50, dt)\n",
    "\n",
    "C0 = np.zeros((len(x)))\n",
    "C0[round(5 / dx): round(7 / 0.1)] = 1 - np.cos(2 * np.pi * (np.arange(5, 7, dx) - 5) / 2)\n",
    "\n",
    "def diffusie(t, x, D, C0):\n",
    "    C = np.tile(np.nan, (len(x), len(t)))\n",
    "    C[:,0] = C0\n",
    "    \n",
    "    for i in range(len(t) - 1):\n",
    "        dFdx = (np.roll(C[:, i], -1, axis=0) - 2 * C[:, i] + np.roll(C[:, i], 1, axis=0)) / ((2 * dx)**2)\n",
    "        C[:, i + 1] = C[:, i] + dt * D * dFdx\n",
    "\n",
    "    return C\n",
    "\n",
    "C = diffusie(t, x, D, C0)\n",
    "\n",
    "for i in range(0, len(t), round(5 / dt)):\n",
    "    plt.plot(x, C[:, i], label=f't={i * dt:.0f}')\n",
    "\n",
    "plt.xlabel('x')\n",
    "plt.ylabel('C')\n",
    "plt.title('Concentration over time')\n",
    "plt.ylim(0, 2)\n",
    "plt.legend()\n",
    "plt.show()"
   ],
   "metadata": {
    "collapsed": false,
    "pycharm": {
     "name": "#%%\n"
    }
   }
  },
  {
   "cell_type": "markdown",
   "source": [
    "# Opgave 6.6a"
   ],
   "metadata": {
    "collapsed": false
   }
  },
  {
   "cell_type": "code",
   "execution_count": null,
   "outputs": [],
   "source": [
    "dx = 0.05\n",
    "x = np.arange(0, 10, dx)\n",
    "dt = 0.01\n",
    "t = np.arange(0, 100, dt)\n",
    "\n",
    "L = np.zeros((len(t)))\n",
    "L[round(15 / dt): round(25 / dt)] = dt * 5\n",
    "\n",
    "plt.plot(t, L)\n",
    "plt.xlabel('t')\n",
    "plt.ylabel('L')\n",
    "plt.title('Lek')\n",
    "plt.show()"
   ],
   "metadata": {
    "collapsed": false,
    "pycharm": {
     "name": "#%%\n"
    }
   }
  },
  {
   "cell_type": "markdown",
   "source": [
    "# Opgave 6.6b"
   ],
   "metadata": {
    "collapsed": false
   }
  },
  {
   "cell_type": "code",
   "execution_count": null,
   "outputs": [],
   "source": [
    "def diffusie2(t, x, D, C0, L):\n",
    "    C = np.tile(np.nan, (len(x), len(t)))\n",
    "    C[:,0] = C0\n",
    "    \n",
    "    for i in range(len(t) - 1):\n",
    "        dFdx = (np.roll(C[:, i], -1, axis=0) - 2 * C[:, i] + np.roll(C[:, i], 1, axis=0)) / ((2 * dx)**2)\n",
    "        C[:, i + 1] = C[:, i] + dt * D * dFdx\n",
    "        C[len(x) // 2, i + 1] += L[i]\n",
    "\n",
    "    return C"
   ],
   "metadata": {
    "collapsed": false,
    "pycharm": {
     "name": "#%%\n"
    }
   }
  },
  {
   "cell_type": "markdown",
   "source": [
    "# Opgave 6.6c"
   ],
   "metadata": {
    "collapsed": false
   }
  },
  {
   "cell_type": "code",
   "execution_count": null,
   "outputs": [],
   "source": [
    "C0 = np.zeros((len(x)))\n",
    "\n",
    "C = diffusie2(t, x, D, C0, L)\n",
    "\n",
    "plt.plot(t, C[len(x) // 2, :], label = 'Midden')\n",
    "plt.plot(t, C[0, :], label = 'Linker rand')\n",
    "plt.legend()\n",
    "plt.title('Concentratie met lek')\n",
    "plt.xlabel('t')\n",
    "plt.ylabel('C')"
   ],
   "metadata": {
    "collapsed": false,
    "pycharm": {
     "name": "#%%\n"
    }
   }
  },
  {
   "cell_type": "code",
   "execution_count": null,
   "outputs": [],
   "source": [
    "for i in np.arange(0, len(t), len(t) // 10):\n",
    "    plt.plot(x, C[:, i], label = f't={i*dt:.0f}')\n",
    "\n",
    "plt.legend()\n",
    "plt.title('Concentratie met lek')\n",
    "plt.xlabel('x')\n",
    "plt.ylabel('C')\n",
    "plt.show()"
   ],
   "metadata": {
    "collapsed": false,
    "pycharm": {
     "name": "#%%\n"
    }
   }
  }
 ],
 "metadata": {
  "kernelspec": {
   "display_name": "Python 3",
   "language": "python",
   "name": "python3"
  },
  "language_info": {
   "codemirror_mode": {
    "name": "ipython",
    "version": 3
   },
   "file_extension": ".py",
   "mimetype": "text/x-python",
   "name": "python",
   "nbconvert_exporter": "python",
   "pygments_lexer": "ipython3",
   "version": "3.7.3"
  },
  "pycharm": {
   "stem_cell": {
    "cell_type": "raw",
    "source": [],
    "metadata": {
     "collapsed": false
    }
   }
  }
 },
 "nbformat": 4,
 "nbformat_minor": 1
}