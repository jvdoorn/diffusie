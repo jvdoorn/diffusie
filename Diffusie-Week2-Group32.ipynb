{
 "cells": [
  {
   "cell_type": "markdown",
   "metadata": {},
   "source": [
    "*pas dit blok aan (dubbelklik om te wijzigen)*\n",
    "\n",
    "# 2020 Diffusie werkcollege opdracht\n",
    "***\n",
    "\n",
    "## Datum: 06-feb-2020\n",
    "## Hoofdstuk: 1\n",
    "## Groep nummer: 32\n",
    "***\n",
    "## Student 1\n",
    "    naam: Julian van Doorn\n",
    "    Studentnr: s2518074\n",
    "\n",
    "## Student 2\n",
    "    naam: Nathaniel Pranger\n",
    "    Studentnr: s\n"
   ]
  },
  {
   "cell_type": "code",
   "execution_count": 144,
   "metadata": {
    "pycharm": {
     "is_executing": false,
     "name": "#%%\n"
    }
   },
   "outputs": [],
   "source": [
    "# Dit blok moet altijd als eerste worden uitgevoerd. Verwijder het dus niet!\n",
    "# voer blokken uit met shift-enter, of met de ▶-knop in de knoppenbalk\n",
    "\n",
    "from __future__ import division\n",
    "\n",
    "import matplotlib.pyplot as plt\n",
    "import numpy as np\n",
    "%matplotlib inline"
   ]
  }
 ],
 "metadata": {
  "kernelspec": {
   "display_name": "Python 3",
   "language": "python",
   "name": "python3"
  },
  "language_info": {
   "codemirror_mode": {
    "name": "ipython",
    "version": 3
   },
   "file_extension": ".py",
   "mimetype": "text/x-python",
   "name": "python",
   "nbconvert_exporter": "python",
   "pygments_lexer": "ipython3",
   "version": "3.7.3"
  },
  "pycharm": {
   "stem_cell": {
    "cell_type": "raw",
    "source": [],
    "metadata": {
     "collapsed": false
    }
   }
  }
 },
 "nbformat": 4,
 "nbformat_minor": 1
}